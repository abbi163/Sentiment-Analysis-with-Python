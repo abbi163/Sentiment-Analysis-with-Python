{
 "cells": [
  {
   "cell_type": "code",
   "execution_count": 3,
   "metadata": {},
   "outputs": [],
   "source": [
    "import pandas as pd\n",
    "\n",
    "products = pd.read_csv('E:/Pythoncode/Coursera/Classification_Algorithms/Sentiment Analysis/amazon_baby.csv')\n"
   ]
  },
  {
   "cell_type": "code",
   "execution_count": 5,
   "metadata": {},
   "outputs": [
    {
     "name": "stdout",
     "output_type": "stream",
     "text": [
      "name      183213\n",
      "review    182702\n",
      "rating    183531\n",
      "dtype: int64\n"
     ]
    }
   ],
   "source": [
    "print(products.count())\n"
   ]
  },
  {
   "cell_type": "code",
   "execution_count": 7,
   "metadata": {},
   "outputs": [
    {
     "name": "stdout",
     "output_type": "stream",
     "text": [
      "name      183531\n",
      "review    183531\n",
      "rating    183531\n",
      "dtype: int64\n"
     ]
    }
   ],
   "source": [
    "# Some of the names and review are empty, so replacing empty with 'NULL'\n",
    "\n",
    "products['name'].fillna('NULL', inplace = True)\n",
    "products['review'].fillna('NULL', inplace = True)\n",
    "\n",
    "print(products.count())"
   ]
  },
  {
   "cell_type": "code",
   "execution_count": 8,
   "metadata": {},
   "outputs": [],
   "source": [
    "# Creating Word Count function which takes string as input and gives words and it's count as output\n",
    "def word_count_function( str ):\n",
    "    for char in '-.,\\n':\n",
    "        str=str.replace(char,' ')\n",
    "    word_list = str.lower().split()\n",
    "    \n",
    "    # Initializing Dictionary\n",
    "    d = {}\n",
    "\n",
    "    # counting number of times each word comes up in list of words (in dictionary)\n",
    "    for word in word_list: \n",
    "        d[word] = d.get(word, 0) + 1\n",
    "   \n",
    "    word_freq = []\n",
    "    for key, value in d.items():\n",
    "        word_freq.append((key,value))\n",
    "    return word_freq\n"
   ]
  }
 ],
 "metadata": {
  "kernelspec": {
   "display_name": "Python 3",
   "language": "python",
   "name": "python3"
  },
  "language_info": {
   "codemirror_mode": {
    "name": "ipython",
    "version": 3
   },
   "file_extension": ".py",
   "mimetype": "text/x-python",
   "name": "python",
   "nbconvert_exporter": "python",
   "pygments_lexer": "ipython3",
   "version": "3.7.0"
  }
 },
 "nbformat": 4,
 "nbformat_minor": 2
}
